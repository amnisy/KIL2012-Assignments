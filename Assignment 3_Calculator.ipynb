{
 "cells": [
  {
   "cell_type": "code",
   "execution_count": 3,
   "id": "e09e6318",
   "metadata": {},
   "outputs": [
    {
     "name": "stdout",
     "output_type": "stream",
     "text": [
      "Enter a number : 60\n",
      "Enter another number : 40\n",
      "Enter an operation (+, -, *, /): *\n",
      "2400\n"
     ]
    }
   ],
   "source": [
    "\n",
    "        try :\n",
    "            # Ask the user for the numbers and an operation\n",
    "            num1 = int(input(\"Enter a number : \"))\n",
    "            num2 = int(input(\"Enter another number : \"))\n",
    "            operation = input(\"Enter an operation (+, -, *, /): \")\n",
    "        \n",
    "            if operation == '+' :\n",
    "                result = num1 + num2\n",
    "                print(result)\n",
    "            elif operation == '-' :\n",
    "                result = num1 - num2\n",
    "                print(result)\n",
    "            elif operation == '*' :\n",
    "                result = num1 * num2\n",
    "                print(result)\n",
    "            elif operation == '/' :\n",
    "                result = num1 / num2\n",
    "                print(result)\n",
    "            else:\n",
    "                print(\"Enter a valid number for operation\")\n",
    "    \n",
    "    \n",
    "        except ValueError:\n",
    "            print(\"Invalid input. Please enter a valid number.\")\n",
    "        except ZeroDivisionError:\n",
    "            print(\"Error: cannot divide by zero\")"
   ]
  },
  {
   "cell_type": "code",
   "execution_count": null,
   "id": "07cc472a",
   "metadata": {},
   "outputs": [],
   "source": []
  }
 ],
 "metadata": {
  "kernelspec": {
   "display_name": "Python 3 (ipykernel)",
   "language": "python",
   "name": "python3"
  },
  "language_info": {
   "codemirror_mode": {
    "name": "ipython",
    "version": 3
   },
   "file_extension": ".py",
   "mimetype": "text/x-python",
   "name": "python",
   "nbconvert_exporter": "python",
   "pygments_lexer": "ipython3",
   "version": "3.11.5"
  }
 },
 "nbformat": 4,
 "nbformat_minor": 5
}
