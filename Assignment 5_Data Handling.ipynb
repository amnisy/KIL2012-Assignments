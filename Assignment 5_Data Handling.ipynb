{
 "cells": [
  {
   "cell_type": "code",
   "execution_count": 4,
   "id": "bb14f23f",
   "metadata": {},
   "outputs": [],
   "source": [
    "def checkout_books(librarian_name, book_title_1, book_title_2, duration_time, special_conditions, **details):\n",
    "    print(\"checkout processed by: \" + librarian_name)\n",
    "    print(\"books checkout: \")\n",
    "    print(\"-\" + book_title_1)\n",
    "    print(\"-\" + book_title_2)\n",
    "    print(\"checkout duration: \" + duration_time)\n",
    "    print(\"additional checkout details: \")\n",
    "    for detail, value in details.items():\n",
    "        print(\"-\" + detail.replace('-', '').title() + \": \" + str(value))\n",
    "    print(\"special conditions for checkout: \")\n",
    "    print(\"-\" + special_conditions)\n",
    "    "
   ]
  },
  {
   "cell_type": "code",
   "execution_count": 7,
   "id": "544aed03",
   "metadata": {},
   "outputs": [
    {
     "name": "stdout",
     "output_type": "stream",
     "text": [
      "checkout processed by: amni\n",
      "books checkout: \n",
      "-Harry Potter\n",
      "-after\n",
      "checkout duration: 2 weeks\n",
      "additional checkout details: \n",
      "-Late_Fee: $0.50\n",
      "-Renewals_Allowed: 3\n",
      "special conditions for checkout: \n",
      "-please be careful with the book\n"
     ]
    }
   ],
   "source": [
    "checkout_books('amni', 'Harry Potter', 'after', '2 weeks', 'please be careful with the book', late_fee='$0.50', renewals_allowed = '3')"
   ]
  },
  {
   "cell_type": "code",
   "execution_count": null,
   "id": "3fb116c5",
   "metadata": {},
   "outputs": [],
   "source": []
  }
 ],
 "metadata": {
  "kernelspec": {
   "display_name": "Python 3 (ipykernel)",
   "language": "python",
   "name": "python3"
  },
  "language_info": {
   "codemirror_mode": {
    "name": "ipython",
    "version": 3
   },
   "file_extension": ".py",
   "mimetype": "text/x-python",
   "name": "python",
   "nbconvert_exporter": "python",
   "pygments_lexer": "ipython3",
   "version": "3.11.5"
  }
 },
 "nbformat": 4,
 "nbformat_minor": 5
}
