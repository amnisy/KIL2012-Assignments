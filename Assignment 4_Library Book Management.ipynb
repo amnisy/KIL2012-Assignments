{
 "cells": [
  {
   "cell_type": "code",
   "execution_count": 1,
   "id": "d2c0b787",
   "metadata": {},
   "outputs": [
    {
     "name": "stdout",
     "output_type": "stream",
     "text": [
      "Checkout Processed by: Amni Syafia\n",
      "Books Checked Out:\n",
      "- 1989\n",
      "- Ratatouille\n",
      "Checkout Duration: {duration}\n",
      "Additional Checkout Details:\n",
      "- Late_fee: $0.25\n",
      "- Renewals_allowed: 2\n",
      "- Special_conditions: Handle with care\n",
      "Special Conditions for Checkout:\n",
      "- Handle with care\n"
     ]
    }
   ],
   "source": [
    "def checkout_books(librarian_name, *book_titles, duration='3 weeks', **kwargs):\n",
    "   \n",
    "    print(f\"Checkout Processed by: {librarian_name}\")\n",
    "\n",
    "    if book_titles:\n",
    "        print(f\"Books Checked Out:\")\n",
    "        for title in book_titles:\n",
    "            print(f\"- {title}\")\n",
    "\n",
    "    print(\"Checkout Duration: {duration}\")\n",
    "\n",
    "    if kwargs:\n",
    "        print(f\"Additional Checkout Details:\")\n",
    "        for key, value in kwargs.items():\n",
    "            print(f\"- {key.capitalize()}: {value}\")\n",
    "\n",
    "    print(f\"Special Conditions for Checkout:\")\n",
    "    special_conditions = kwargs.get('special_conditions', 'None')\n",
    "    print(f\"- {special_conditions}\")\n",
    "\n",
    "# Example usage:\n",
    "checkout_books('Amni Syafia', '1989', 'Ratatouille', duration='3 weeks', late_fee='$0.25', renewals_allowed=2, special_conditions='Handle with care')"
   ]
  },
  {
   "cell_type": "code",
   "execution_count": 2,
   "id": "e0682346",
   "metadata": {},
   "outputs": [
    {
     "name": "stdout",
     "output_type": "stream",
     "text": [
      "Checkout processed by: Amni\n",
      "Checkout duration: \n",
      "Books checked out: \n",
      "- 1989\n",
      "- Brand New World\n",
      "- Romeo and Juliette\n"
     ]
    }
   ],
   "source": [
    "def checkout_books(student_name, *checkout_durations, **books):\n",
    "    # Enroll a student in multiple courses.\n",
    "    print(\"Checkout processed by: \" + student_name)\n",
    "    print(\"Checkout duration: \")  \n",
    "    print(\"Books checked out: \")\n",
    "    for book in books:\n",
    "        print(\"- \" + book)\n",
    "        print(\"Books checked out:\")\n",
    "    for checkout_duration in checkout_durations:\n",
    "        print(\"- \" + checkout_duration)\n",
    "\n",
    "# Example of checking out multiple books:\n",
    "checkout_books('Amni', '1989', 'Brand New World', 'Romeo and Juliette')\n"
   ]
  },
  {
   "cell_type": "code",
   "execution_count": null,
   "id": "7e65759d",
   "metadata": {},
   "outputs": [],
   "source": []
  }
 ],
 "metadata": {
  "kernelspec": {
   "display_name": "Python 3 (ipykernel)",
   "language": "python",
   "name": "python3"
  },
  "language_info": {
   "codemirror_mode": {
    "name": "ipython",
    "version": 3
   },
   "file_extension": ".py",
   "mimetype": "text/x-python",
   "name": "python",
   "nbconvert_exporter": "python",
   "pygments_lexer": "ipython3",
   "version": "3.11.5"
  }
 },
 "nbformat": 4,
 "nbformat_minor": 5
}
