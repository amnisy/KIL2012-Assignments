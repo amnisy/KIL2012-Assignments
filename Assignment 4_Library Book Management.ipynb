{
 "cells": [
  {
   "cell_type": "code",
   "execution_count": 1,
   "id": "d2c0b787",
   "metadata": {},
   "outputs": [
    {
     "name": "stdout",
     "output_type": "stream",
     "text": [
      "Checkout Processed by: Amni Syafia\n",
      "Books Checked Out:\n",
      "- 1989\n",
      "- Ratatouille\n",
      "Checkout Duration: {duration}\n",
      "Additional Checkout Details:\n",
      "- Late_fee: $0.25\n",
      "- Renewals_allowed: 2\n",
      "- Special_conditions: Handle with care\n",
      "Special Conditions for Checkout:\n",
      "- Handle with care\n"
     ]
    }
   ],
   "source": [
    "def checkout_books(librarian_name, *book_titles, duration='3 weeks', **kwargs):\n",
    "   \n",
    "    print(f\"Checkout Processed by: {librarian_name}\")\n",
    "\n",
    "    if book_titles:\n",
    "        print(f\"Books Checked Out:\")\n",
    "        for title in book_titles:\n",
    "            print(f\"- {title}\")\n",
    "\n",
    "    print(\"Checkout Duration: {duration}\")\n",
    "\n",
    "    if kwargs:\n",
    "        print(f\"Additional Checkout Details:\")\n",
    "        for key, value in kwargs.items():\n",
    "            print(f\"- {key.capitalize()}: {value}\")\n",
    "\n",
    "    print(f\"Special Conditions for Checkout:\")\n",
    "    special_conditions = kwargs.get('special_conditions', 'None')\n",
    "    print(f\"- {special_conditions}\")\n",
    "\n",
    "# Example usage:\n",
    "checkout_books('Amni Syafia', '1989', 'Ratatouille', duration='3 weeks', late_fee='$0.25', renewals_allowed=2, special_conditions='Handle with care')"
   ]
  },
  {
   "cell_type": "code",
   "execution_count": 1,
   "id": "e0682346",
   "metadata": {},
   "outputs": [],
   "source": [
    "def checkout_books(librarian_name, book_title_1, book_title_2, duration_time, special_conditions, **details):\n",
    "    print(\"checkout processed by: \" + librarian_name)\n",
    "    print(\"books checkout: \")\n",
    "    print(\"-\" + book_title_1)\n",
    "    print(\"-\" + book_title_2)\n",
    "    print(\"checkout duration: \" + duration_time)\n",
    "    print(\"additional checkout details: \")\n",
    "    for detail, value in details.items():\n",
    "        print(\"-\" + detail.replace('-', '').title() + \": \" + str(value))\n",
    "    print(\"special conditions for checkout: \")\n",
    "    print(\"-\" + special_conditions)\n"
   ]
  },
  {
   "cell_type": "code",
   "execution_count": 2,
   "id": "7e65759d",
   "metadata": {},
   "outputs": [
    {
     "name": "stdout",
     "output_type": "stream",
     "text": [
      "checkout processed by: amni\n",
      "books checkout: \n",
      "-Harry Potter\n",
      "-after\n",
      "checkout duration: 2 weeks\n",
      "additional checkout details: \n",
      "-Late_Fee: $0.50\n",
      "-Renewals_Allowed: 3\n",
      "special conditions for checkout: \n",
      "-please be careful with the book\n"
     ]
    }
   ],
   "source": [
    "checkout_books('', 'Harry Potter', 'after', '2 weeks', 'please be careful with the book', late_fee='$0.50', renewals_allowed = '3')"
   ]
  },
  {
   "cell_type": "code",
   "execution_count": null,
   "id": "b5526922",
   "metadata": {},
   "outputs": [],
   "source": []
  }
 ],
 "metadata": {
  "kernelspec": {
   "display_name": "Python 3 (ipykernel)",
   "language": "python",
   "name": "python3"
  },
  "language_info": {
   "codemirror_mode": {
    "name": "ipython",
    "version": 3
   },
   "file_extension": ".py",
   "mimetype": "text/x-python",
   "name": "python",
   "nbconvert_exporter": "python",
   "pygments_lexer": "ipython3",
   "version": "3.11.5"
  }
 },
 "nbformat": 4,
 "nbformat_minor": 5
}
